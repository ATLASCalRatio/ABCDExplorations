{
 "cells": [
  {
   "cell_type": "markdown",
   "metadata": {},
   "source": [
    "# ABCD - The Simple Case\n",
    "A very simple ABCD method calculation: Build a dataset, define a cut, and then predict A from B, C, and D. The variables created are totally uncorrelated.\n",
    "\n",
    "We define ABCD as A in the upper left hand quadrant, B in the lower left hand, C in the upper right hand and D in the lower right hand:\n",
    "\n",
    "       +----+----+\n",
    "       |  A |  C |\n",
    "    v2 +----+----+\n",
    "       |  B +  D |\n",
    "       +---------+\n",
    "           v1\n",
    "   \n",
    " Thus, the ratio is A/B = C/D or A = BC/D.\n",
    " \n",
    "     A: v1 <= xcut & v2 > ycut\n",
    "     B: v1 <= xcut & v2 <= ycut\n",
    "     C: v1 > xcut & v2 > ycut\n",
    "     D: v1 > xcut & v2 <= ycut"
   ]
  },
  {
   "cell_type": "markdown",
   "metadata": {},
   "source": [
    "## Initalization"
   ]
  },
  {
   "cell_type": "code",
   "execution_count": 138,
   "metadata": {
    "collapsed": true
   },
   "outputs": [],
   "source": [
    "%matplotlib inline\n",
    "import numpy as np\n",
    "import pandas as pd\n",
    "import matplotlib.pyplot as plt\n",
    "from scipy.stats import norm"
   ]
  },
  {
   "cell_type": "markdown",
   "metadata": {},
   "source": [
    "## Sample Generation"
   ]
  },
  {
   "cell_type": "code",
   "execution_count": 7,
   "metadata": {
    "collapsed": true
   },
   "outputs": [],
   "source": [
    "def generate(n):\n",
    "  sample_np = np.random.rand(n, 2)\n",
    "  return pd.DataFrame(sample_np, columns=['v1', 'v2'])"
   ]
  },
  {
   "cell_type": "code",
   "execution_count": 8,
   "metadata": {
    "collapsed": true
   },
   "outputs": [],
   "source": [
    "sample=generate(10000)"
   ]
  },
  {
   "cell_type": "code",
   "execution_count": 9,
   "metadata": {},
   "outputs": [
    {
     "data": {
      "text/plain": [
       "<matplotlib.collections.PathCollection at 0x2517711a6d8>"
      ]
     },
     "execution_count": 9,
     "metadata": {},
     "output_type": "execute_result"
    },
    {
     "data": {
      "image/png": "[encoded data removed]",
      "text/plain": [
       "<matplotlib.figure.Figure at 0x25176c79a58>"
      ]
     },
     "metadata": {},
     "output_type": "display_data"
    }
   ],
   "source": [
    "plt.scatter(sample['v1'], sample['v2'])"
   ]
  },
  {
   "cell_type": "markdown",
   "metadata": {},
   "source": [
    "## ABCD Calculation"
   ]
  },
  {
   "cell_type": "code",
   "execution_count": 112,
   "metadata": {
    "collapsed": true
   },
   "outputs": [],
   "source": [
    "def calc_ABCD(s, xc, yc):\n",
    "    A = s.loc[(s['v1']<=xc) & (s['v2']>yc)]\n",
    "    B = s.loc[(s['v1']<=xc) & (s['v2']<=yc)]\n",
    "    C = s.loc[(s['v1']>xc) & (s['v2']>yc)]\n",
    "    D = s.loc[(s['v1']>xc) & (s['v2']<=yc)]\n",
    "    nA = len(A.index)\n",
    "    nB = len(B.index)\n",
    "    nC = len(C.index)\n",
    "    nD = len(D.index)\n",
    "    if (nD == 0) | (nA == 0):\n",
    "        fractionalError = 0\n",
    "    else:\n",
    "        pred = nB*nC/nD\n",
    "        fractionalError = (nA - pred)/nA\n",
    "    return fractionalError"
   ]
  },
  {
   "cell_type": "code",
   "execution_count": 113,
   "metadata": {},
   "outputs": [
    {
     "data": {
      "text/plain": [
       "0.01251466935512083"
      ]
     },
     "execution_count": 113,
     "metadata": {},
     "output_type": "execute_result"
    }
   ],
   "source": [
    "xcut = 0.5\n",
    "ycut = 0.5\n",
    "calc_ABCD(sample, xcut, ycut)"
   ]
  },
  {
   "cell_type": "markdown",
   "metadata": {},
   "source": [
    "## Statstical Error"
   ]
  },
  {
   "cell_type": "code",
   "execution_count": 77,
   "metadata": {
    "collapsed": true
   },
   "outputs": [],
   "source": [
    "def ABCD_statistics (nS, xcut, ycut):\n",
    "    s = generate(nS)\n",
    "    return calc_ABCD(s, xcut, ycut)"
   ]
  },
  {
   "cell_type": "code",
   "execution_count": 94,
   "metadata": {
    "collapsed": true
   },
   "outputs": [],
   "source": [
    "stas = pd.DataFrame([ABCD_statistics(int(1000), xcut, ycut) for i in range(1000)], columns=['ABCD Fractional Error'])"
   ]
  },
  {
   "cell_type": "code",
   "execution_count": 95,
   "metadata": {
    "collapsed": true
   },
   "outputs": [],
   "source": [
    "mu, std = norm.fit(stas['ABCD Fractional Error'])"
   ]
  },
  {
   "cell_type": "code",
   "execution_count": 141,
   "metadata": {},
   "outputs": [
    {
     "data": {
      "text/plain": [
       "Text(0.5,1,'Fit results: mu = -0.00,  std = 0.13')"
      ]
     },
     "execution_count": 141,
     "metadata": {},
     "output_type": "execute_result"
    },
    {
     "data": {
      "image/png": "[encoded data removed]",
      "text/plain": [
       "<matplotlib.figure.Figure at 0x2517a7ff320>"
      ]
     },
     "metadata": {},
     "output_type": "display_data"
    }
   ],
   "source": [
    "plt.hist(stas['ABCD Fractional Error'], normed=True, alpha=0.6, color='g')\n",
    "xmin, xmax = plt.xlim()\n",
    "x = np.linspace(xmin, xmax, 100)\n",
    "p = norm.pdf(x, mu, std)\n",
    "plt.plot(x, p, 'k', linewidth=2)\n",
    "title = \"Fit results: mu = %.2f,  std = %.2f\" % (mu, std)\n",
    "plt.title(title)"
   ]
  },
  {
   "cell_type": "markdown",
   "metadata": {},
   "source": [
    "## Statistical Error and Sample Size"
   ]
  },
  {
   "cell_type": "code",
   "execution_count": 142,
   "metadata": {
    "collapsed": true
   },
   "outputs": [],
   "source": [
    "def ABCD_error (nS, nIter, xcut, ycut):\n",
    "    stas = pd.DataFrame([ABCD_statistics(nS, xcut, ycut) for i in range(nIter)], columns=['ABCD Fractional Error'])\n",
    "    mu, std = norm.fit(stas['ABCD Fractional Error'])\n",
    "    return std"
   ]
  },
  {
   "cell_type": "code",
   "execution_count": 125,
   "metadata": {
    "collapsed": true
   },
   "outputs": [],
   "source": [
    "errors = pd.DataFrame(np.array([(ns, ABCD_error(ns, 100, 0.5, 0.5)) for ns in (20, 50, 100, 200, 300, 400, 500, 1000, 2000, 3000, 4000, 5000, 10000)]), columns=['nSamples', 'Error'])"
   ]
  },
  {
   "cell_type": "code",
   "execution_count": 143,
   "metadata": {},
   "outputs": [
    {
     "data": {
      "image/png": "[encoded data removed]",
      "text/plain": [
       "<matplotlib.figure.Figure at 0x2517a7ec208>"
      ]
     },
     "metadata": {},
     "output_type": "display_data"
    }
   ],
   "source": [
    "plt.plot(errors['nSamples'], errors['Error'])\n",
    "plt.xlabel(\"ABCD Plane Statistics\")\n",
    "plt.ylabel(\"Fractional Error\")\n",
    "plt.yscale('log')\n",
    "plt.grid(which='minor')\n",
    "plt.grid()\n",
    "plt.show()"
   ]
  }
 ],
 "metadata": {
  "kernelspec": {
   "display_name": "Python 3",
   "language": "python",
   "name": "python3"
  },
  "language_info": {
   "codemirror_mode": {
    "name": "ipython",
    "version": 3
   },
   "file_extension": ".py",
   "mimetype": "text/x-python",
   "name": "python",
   "nbconvert_exporter": "python",
   "pygments_lexer": "ipython3",
   "version": "3.6.3"
  }
 },
 "nbformat": 4,
 "nbformat_minor": 2
}
