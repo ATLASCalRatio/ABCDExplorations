{
 "cells": [
  {
   "cell_type": "markdown",
   "metadata": {},
   "source": [
    "# ABCD - The Simple Case\n",
    "A very simple ABCD method calculation: Build a dataset, define a cut, and then predict A from B, C, and D. The variables created are totally uncorrelated.\n",
    "\n",
    "We define ABCD as A in the upper left hand quadrant, B in the lower left hand, C in the upper right hand and D in the lower right hand:\n",
    "\n",
    "       +----+----+\n",
    "       |  A |  C |\n",
    "    v2 +----+----+\n",
    "       |  B +  D |\n",
    "       +---------+\n",
    "           v1\n",
    "   \n",
    " Thus, the ratio is A/B = C/D or A = BC/D.\n",
    " \n",
    "     A: v1 <= xcut & v2 > ycut\n",
    "     B: v1 <= xcut & v2 <= ycut\n",
    "     C: v1 > xcut & v2 > ycut\n",
    "     D: v1 > xcut & v2 <= ycut"
   ]
  },
  {
   "cell_type": "markdown",
   "metadata": {},
   "source": [
    "## Initalization"
   ]
  },
  {
   "cell_type": "code",
   "execution_count": 75,
   "metadata": {
    "collapsed": true
   },
   "outputs": [],
   "source": [
    "%matplotlib inline\n",
    "import numpy as np\n",
    "import pandas as pd\n",
    "import matplotlib.pyplot as plt"
   ]
  },
  {
   "cell_type": "markdown",
   "metadata": {},
   "source": [
    "## Sample Generation"
   ]
  },
  {
   "cell_type": "code",
   "execution_count": 94,
   "metadata": {},
   "outputs": [],
   "source": [
    "def generate(n):\n",
    "  sample_np = np.random.rand(n, 2)\n",
    "  return pd.DataFrame(sample_np, columns=['v1', 'v2'])"
   ]
  },
  {
   "cell_type": "code",
   "execution_count": 95,
   "metadata": {},
   "outputs": [],
   "source": [
    "sample=generate(10000)"
   ]
  },
  {
   "cell_type": "code",
   "execution_count": 96,
   "metadata": {},
   "outputs": [
    {
     "data": {
      "text/plain": [
       "<matplotlib.collections.PathCollection at 0x1e4baadf208>"
      ]
     },
     "execution_count": 96,
     "metadata": {},
     "output_type": "execute_result"
    },
    {
     "data": {
      "image/png": "[encoded data removed]",
      "text/plain": [
       "<matplotlib.figure.Figure at 0x1e4baa8f470>"
      ]
     },
     "metadata": {},
     "output_type": "display_data"
    }
   ],
   "source": [
    "plt.scatter(sample['v1'], sample['v2'])"
   ]
  },
  {
   "cell_type": "markdown",
   "metadata": {},
   "source": [
    "## ABCD Calculation"
   ]
  },
  {
   "cell_type": "code",
   "execution_count": 103,
   "metadata": {},
   "outputs": [],
   "source": [
    "def calc_ABCD(sample, xc, yc):\n",
    "    A = sample.loc[(sample['v1']<=xc) & (sample['v2']>yc)]\n",
    "    B = sample.loc[(sample['v1']<=xc) & (sample['v2']<=yc)]\n",
    "    C = sample.loc[(sample['v1']>xc) & (sample['v2']>yc)]\n",
    "    D = sample.loc[(sample['v1']>xc) & (sample['v2']<=yc)]\n",
    "    nA = len(A.index)\n",
    "    nB = len(B.index)\n",
    "    nC = len(C.index)\n",
    "    nD = len(D.index)\n",
    "    pred = nB*nC/nD\n",
    "    fractionalError = abs(nA - pred)/nA\n",
    "    return fractionalError"
   ]
  },
  {
   "cell_type": "code",
   "execution_count": 105,
   "metadata": {
    "collapsed": true
   },
   "outputs": [],
   "source": [
    "xcut = 0.5\n",
    "ycut = 0.5\n",
    "calc_ABCD(sample, xcut, ycut)"
   ]
  },
  {
   "cell_type": "code",
   "execution_count": 88,
   "metadata": {
    "collapsed": true
   },
   "outputs": [],
   "source": [
    "ycut = 0.5"
   ]
  },
  {
   "cell_type": "code",
   "execution_count": 101,
   "metadata": {},
   "outputs": [
    {
     "data": {
      "text/plain": [
       "2.746869325815781"
      ]
     },
     "execution_count": 101,
     "metadata": {},
     "output_type": "execute_result"
    }
   ],
   "source": [
    "\n",
    "fractionalError*100"
   ]
  },
  {
   "cell_type": "code",
   "execution_count": null,
   "metadata": {
    "collapsed": true
   },
   "outputs": [],
   "source": []
  }
 ],
 "metadata": {
  "kernelspec": {
   "display_name": "Python 3",
   "language": "python",
   "name": "python3"
  },
  "language_info": {
   "codemirror_mode": {
    "name": "ipython",
    "version": 3
   },
   "file_extension": ".py",
   "mimetype": "text/x-python",
   "name": "python",
   "nbconvert_exporter": "python",
   "pygments_lexer": "ipython3",
   "version": "3.6.3"
  }
 },
 "nbformat": 4,
 "nbformat_minor": 2
}
